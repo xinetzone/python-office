{
 "cells": [
  {
   "cell_type": "markdown",
   "metadata": {},
   "source": [
    "# Excel 处理\n",
    "\n",
    "安装包：\n",
    "\n",
    "```shell\n",
    "pip install openpyxl\n",
    "```\n",
    "\n",
    "```{rubric} 新建工作表\n",
    "```"
   ]
  },
  {
   "cell_type": "code",
   "execution_count": 2,
   "metadata": {},
   "outputs": [],
   "source": [
    "from openpyxl import Workbook\n",
    "wb = Workbook()"
   ]
  },
  {
   "cell_type": "markdown",
   "metadata": {},
   "source": [
    "```{rubric} 创建 worksheet\n",
    "```\n",
    "\n",
    "```\n",
    "这在默认情况下设置为 0。除非您修改它的值，否则您将始终使用此方法获取第一个工作表。\n",
    "```"
   ]
  },
  {
   "cell_type": "code",
   "execution_count": 4,
   "metadata": {},
   "outputs": [],
   "source": [
    "ws = wb.active"
   ]
  },
  {
   "cell_type": "markdown",
   "metadata": {},
   "source": [
    "你可以使用 {meth}`~openpyxl.Workbook.create_sheet` 方法创建新的工作表："
   ]
  },
  {
   "cell_type": "code",
   "execution_count": 7,
   "metadata": {},
   "outputs": [],
   "source": [
    "ws1 = wb.create_sheet(\"Mysheet\") # insert at the end (default)\n",
    "# or\n",
    "ws2 = wb.create_sheet(\"Mysheet\", 0) # insert at first position\n",
    "# or\n",
    "ws3 = wb.create_sheet(\"Mysheet\", -1) # insert at the penultimate position"
   ]
  },
  {
   "cell_type": "code",
   "execution_count": null,
   "metadata": {},
   "outputs": [],
   "source": []
  }
 ],
 "metadata": {
  "interpreter": {
   "hash": "191beb1d7859a11b1b93930830ad46a704ad1abd4e43c33248123554b68fd156"
  },
  "kernelspec": {
   "display_name": "Python 3.10.0 ('ai')",
   "language": "python",
   "name": "python3"
  },
  "language_info": {
   "codemirror_mode": {
    "name": "ipython",
    "version": 3
   },
   "file_extension": ".py",
   "mimetype": "text/x-python",
   "name": "python",
   "nbconvert_exporter": "python",
   "pygments_lexer": "ipython3",
   "version": "3.10.0"
  },
  "orig_nbformat": 4
 },
 "nbformat": 4,
 "nbformat_minor": 2
}
