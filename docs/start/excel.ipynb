{
 "cells": [
  {
   "cell_type": "markdown",
   "metadata": {},
   "source": [
    "# Excel 处理\n",
    "\n",
    "安装包：\n",
    "\n",
    "```shell\n",
    "pip install openpyxl\n",
    "```\n",
    "\n",
    "```{rubric} 新建工作表\n",
    "```"
   ]
  },
  {
   "cell_type": "code",
   "execution_count": 1,
   "metadata": {},
   "outputs": [],
   "source": [
    "from openpyxl import Workbook\n",
    "wb = Workbook()"
   ]
  },
  {
   "cell_type": "code",
   "execution_count": 44,
   "metadata": {},
   "outputs": [],
   "source": [
    "from pathlib import Path\n",
    "import openpyxl"
   ]
  },
  {
   "cell_type": "code",
   "execution_count": 49,
   "metadata": {},
   "outputs": [],
   "source": []
  },
  {
   "cell_type": "code",
   "execution_count": 54,
   "metadata": {},
   "outputs": [
    {
     "data": {
      "text/plain": [
       "['cell',\n",
       " 'chart',\n",
       " 'chartsheet',\n",
       " 'comments',\n",
       " 'compat',\n",
       " 'descriptors',\n",
       " 'drawing',\n",
       " 'formatting',\n",
       " 'formula',\n",
       " 'packaging',\n",
       " 'pivot',\n",
       " 'reader',\n",
       " 'styles',\n",
       " 'utils',\n",
       " 'workbook',\n",
       " 'worksheet',\n",
       " 'writer',\n",
       " 'xml']"
      ]
     },
     "execution_count": 54,
     "metadata": {},
     "output_type": "execute_result"
    }
   ],
   "source": []
  },
  {
   "cell_type": "code",
   "execution_count": 51,
   "metadata": {},
   "outputs": [
    {
     "data": {
      "text/plain": [
       "True"
      ]
     },
     "execution_count": 51,
     "metadata": {},
     "output_type": "execute_result"
    }
   ],
   "source": [
    "root"
   ]
  },
  {
   "cell_type": "code",
   "execution_count": null,
   "metadata": {},
   "outputs": [],
   "source": []
  }
 ],
 "metadata": {
  "interpreter": {
   "hash": "191beb1d7859a11b1b93930830ad46a704ad1abd4e43c33248123554b68fd156"
  },
  "kernelspec": {
   "display_name": "Python 3.10.0 ('ai')",
   "language": "python",
   "name": "python3"
  },
  "language_info": {
   "codemirror_mode": {
    "name": "ipython",
    "version": 3
   },
   "file_extension": ".py",
   "mimetype": "text/x-python",
   "name": "python",
   "nbconvert_exporter": "python",
   "pygments_lexer": "ipython3",
   "version": "3.10.0"
  },
  "orig_nbformat": 4
 },
 "nbformat": 4,
 "nbformat_minor": 2
}
